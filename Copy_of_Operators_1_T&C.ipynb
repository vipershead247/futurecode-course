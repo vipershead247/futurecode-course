{
  "nbformat": 4,
  "nbformat_minor": 0,
  "metadata": {
    "colab": {
      "provenance": [],
      "include_colab_link": true
    },
    "kernelspec": {
      "name": "python3",
      "display_name": "Python 3"
    }
  },
  "cells": [
    {
      "cell_type": "markdown",
      "metadata": {
        "id": "view-in-github",
        "colab_type": "text"
      },
      "source": [
        "<a href=\"https://colab.research.google.com/github/vipershead247/futurecode-course/blob/main/Copy_of_Operators_1_T%26C.ipynb\" target=\"_parent\"><img src=\"https://colab.research.google.com/assets/colab-badge.svg\" alt=\"Open In Colab\"/></a>"
      ]
    },
    {
      "cell_type": "markdown",
      "metadata": {
        "id": "3O7iro_BV0mL"
      },
      "source": [
        "# Operators - arithmetic\n",
        "\n",
        "---"
      ]
    },
    {
      "cell_type": "markdown",
      "metadata": {
        "id": "Nk7bg_hfLzu7"
      },
      "source": [
        "In Python, we can use the following arithmetic operators:  \n",
        "\n",
        "![Python operators](https://drive.google.com/uc?id=1EARs0OefvMwAULyNGGs01xYLW3lIAO9B)\n",
        "\n",
        "\n",
        "\n",
        "\n",
        "\n",
        "\n",
        "\n",
        "\n",
        "\n"
      ]
    },
    {
      "cell_type": "markdown",
      "metadata": {
        "id": "ohKiZuy-OnDN"
      },
      "source": [
        "---\n",
        "### Exercise 1 - multiplication of integers\n",
        "\n",
        "Write a function called **calculate_storage()** which will:  \n",
        "\n",
        "*  create a variable called **document_size**  \n",
        "*  calculate the amount of storage needed for 250 documents (a predicted amount that might be stored) by multiplying `document_size by 250, assigning it to a new variable called **total_storage**  \n",
        "*  print the storage space needed (`total_storage`)    \n",
        "\n",
        "### Test  \n",
        "If document_size is 40Kb (stored as 40) the output will be:   \n",
        "\n",
        "1000 Kb"
      ]
    },
    {
      "cell_type": "code",
      "metadata": {
        "id": "kWpM2m4nO7Ir",
        "colab": {
          "base_uri": "https://localhost:8080/"
        },
        "outputId": "bb6d30d2-c57d-4cd6-c0f5-472cbfb35daa"
      },
      "source": [
        "def calculate_storage():\n",
        "    document_size=40\n",
        "    total_storage=document_size*250\n",
        "    print(total_storage,\"Kb\")\n",
        "calculate_storage()\n"
      ],
      "execution_count": null,
      "outputs": [
        {
          "output_type": "stream",
          "name": "stdout",
          "text": [
            "10000 Kb\n"
          ]
        }
      ]
    },
    {
      "cell_type": "markdown",
      "metadata": {
        "id": "fvxtRRcfOnGr"
      },
      "source": [
        "---\n",
        "### Exercise 2 - BIDMAS\n",
        "Write a function called **calculate_average()** which will:  \n",
        "\n",
        "*  create three variables - **num1**, **num2**, **num3** and assign a number to each  \n",
        "*  calculate the **average** of the three numbers\n",
        "*  print the `average`, rounded to 2 decimal places  \n",
        "\n",
        "*Hint 1:  to round a number, use round(), e.g. round(`average`)  *\n",
        "*Hint 2: remember the BIDMAS order of operators and use brackets to change the order if necessary.*  \n",
        "\n",
        "### Test  \n",
        "If the three numbers are 3, 5 and 9 the output will be:  \n",
        " \n",
        "5.67"
      ]
    },
    {
      "cell_type": "code",
      "metadata": {
        "id": "jYtLq8olPRZM",
        "colab": {
          "base_uri": "https://localhost:8080/"
        },
        "outputId": "8680d8da-8d0f-47ce-a57f-61056882ca2a"
      },
      "source": [
        "def  calculate_average():\n",
        "    num1=3\n",
        "    num2=5\n",
        "    num3=9\n",
        "    total=num1+num2+num3\n",
        "    average=total/3\n",
        "    print(round(average,2))\n",
        "calculate_average()\n"
      ],
      "execution_count": null,
      "outputs": [
        {
          "output_type": "stream",
          "name": "stdout",
          "text": [
            "5.67\n"
          ]
        }
      ]
    },
    {
      "cell_type": "markdown",
      "metadata": {
        "id": "r9w0fiW-PR2D"
      },
      "source": [
        "---\n",
        "### Exercise 3 - BIDMAS\n",
        "\n",
        "Write a function called **calculate_avg_height()** which will:  \n",
        "\n",
        "*  create a variable called **height** and assign it a number of cm to represent the height of a notice  \n",
        "*  convert `height` to **height_millimeters** (multiply by 100)  \n",
        "*  print `height_millimeters` as an integer (no decimal places)  \n",
        "\n",
        "*Remember, document height in cm is often a decimal*  \n",
        "\n",
        "### Test  \n",
        "If the document height is 21.7 cm the output will be:  \n",
        "  \n",
        "217\n"
      ]
    },
    {
      "cell_type": "code",
      "metadata": {
        "id": "2dMgvQlUPirV",
        "colab": {
          "base_uri": "https://localhost:8080/"
        },
        "outputId": "0963d60a-e310-4b41-8d6e-076da7fb9106"
      },
      "source": [
        "def calculate_avg_height():\n",
        "    height=21.7\n",
        "    height_millimeters=height*10\n",
        "    print (int(height_millimeters))\n",
        "\n",
        "calculate_avg_height() \n"
      ],
      "execution_count": null,
      "outputs": [
        {
          "output_type": "stream",
          "name": "stdout",
          "text": [
            "217\n"
          ]
        }
      ]
    },
    {
      "cell_type": "markdown",
      "metadata": {
        "id": "QTprQ2zhPi9L"
      },
      "source": [
        "---\n",
        "### Exercise 4 - float and formatting printing\n",
        "\n",
        "At the time of writing, the exchange rate from Pounds (£) to Euros (€) is 1.16 (£1 = €1.16).\n",
        "\n",
        "Write a function called **convert_currency(**) which will:\n",
        "\n",
        "*  create a variable called **pounds** and assign it a number of pounds  \n",
        "*  calculate the equivalent number of **euros**  \n",
        "*  print `euros`, rounded to 2 decimal places  \n",
        "\n",
        "### Test  \n",
        "If pounds is assigned the value (£)60 the output will be:\n",
        " \n",
        "€69.6  \n",
        "\n",
        "*Remember, pounds is likely to be a decimal number and that you should not enter the £ sign.*"
      ]
    },
    {
      "cell_type": "code",
      "metadata": {
        "id": "DXqxS75kQWOm",
        "colab": {
          "base_uri": "https://localhost:8080/"
        },
        "outputId": "6a0a7f2e-e107-4ae7-dda6-eb8ff53e062c"
      },
      "source": [
        "def convert_currency():\n",
        "  pounds = 60\n",
        "  exrate = 1.16\n",
        "  euros = round(pounds*exrate,2)\n",
        "  print(\"€\" + str(euros))\n",
        "convert_currency()\n",
        "   "
      ],
      "execution_count": null,
      "outputs": [
        {
          "output_type": "stream",
          "name": "stdout",
          "text": [
            "€69.6\n"
          ]
        }
      ]
    },
    {
      "cell_type": "code",
      "source": [
        "pounds=60\n",
        "euros=pounds*1.6\n",
        "print(euros)"
      ],
      "metadata": {
        "colab": {
          "base_uri": "https://localhost:8080/"
        },
        "id": "3bod68ut-jyX",
        "outputId": "f12808fc-a8e1-4e15-d94f-1dd72e1e9049"
      },
      "execution_count": null,
      "outputs": [
        {
          "output_type": "stream",
          "name": "stdout",
          "text": [
            "96.0\n"
          ]
        }
      ]
    },
    {
      "cell_type": "markdown",
      "metadata": {
        "id": "Eur4tRWUQWYL"
      },
      "source": [
        "---\n",
        "### Exercise 5 - rounding\n",
        "\n",
        "Write a function called **calculate_stats()** which will:  \n",
        "\n",
        "*  assign the numbers 3.145, 5.6723 and 9.34 to the variables **num1**, **num2** and **num3** respectively  \n",
        "*  calculate the **total** of the three numbers, rounded to 2 decimal places  \n",
        "*  calculate the **average** of the numbers, rounded to 3 decimal places  \n",
        "*  print `total` and `average` in a message that labels them.\n",
        "\n",
        "Expected output:\n",
        "\n",
        "The total of the three numbers is 18.16  \n",
        "The average of the three numbers is 6.053\n",
        "\n",
        "*Remember to calculate the average you divide the total by the quantity of numbers, e.g. total/3*\n"
      ]
    },
    {
      "cell_type": "code",
      "metadata": {
        "id": "pD1lMOhuRZvd",
        "colab": {
          "base_uri": "https://localhost:8080/"
        },
        "outputId": "151da601-a44f-4e17-a785-c7f5fe398eb8"
      },
      "source": [
        "def  calculate_stats():\n",
        "    num1=3.145\n",
        "    num2=5.6723\n",
        "    num3=9.34\n",
        "    total=round(num1+num2+num3,2)\n",
        "    average=round(total/3,3)\n",
        "    print(total,average,)\n",
        "calculate_stats()\n"
      ],
      "execution_count": null,
      "outputs": [
        {
          "output_type": "stream",
          "name": "stdout",
          "text": [
            "18.16 6.053\n"
          ]
        }
      ]
    },
    {
      "cell_type": "markdown",
      "metadata": {
        "id": "jsV3uF5aRZ56"
      },
      "source": [
        "---\n",
        "### Exercise 6 - calculating area\n",
        "\n",
        "A screen may have an area of 1920×1080 pixels. Cards to go on the screen are 400x300 pixels.   \n",
        "\n",
        "Write a function called **calculate_areas()** which will:   \n",
        "\n",
        "*  assign the value 1920 to a variable called **screen_width**\n",
        "*  assign the value 1080 to a variable called **screen_height**\n",
        "*  assign the value 400 to a variable called **card_width** and 300 to a variable called **card_height**  \n",
        "*  calculate the **card_and_spacing_area** rounded to 1 decimal place (this will be `card_width` + 20 (to allow for 10 pixels of space on each side) x `card_height` + 20 (and above and below))  \n",
        "*  calculate the **screen_area** (`screen_height` x `screen_width`)\n",
        "*  print the `card_and_spacing_area` and the `screen_area` on seperate lines, with labels\n",
        "\n",
        "*Hint: remember to use bidmas*\n",
        "\n",
        "### Test\n",
        "Using the information above the output will be:  \n",
        "\n",
        "Card area: 134400 pixels  \n",
        "Screen area: 2073600 pixels\n"
      ]
    },
    {
      "cell_type": "code",
      "metadata": {
        "id": "WVLFFYayRwcN",
        "colab": {
          "base_uri": "https://localhost:8080/"
        },
        "outputId": "9be38380-73c3-4442-9b6f-a629920dbb42"
      },
      "source": [
        "def calculate_areas():\n",
        "    screen_width=1920\n",
        "    screen_height=1080\n",
        "    card_width=400\n",
        "    card_height=300\n",
        "    total=round(card_width + 20) *(card_height + 20 )\n",
        "    screen_area=(screen_height * screen_width)\n",
        "    print(total)\n",
        "    print(screen_area)\n",
        "\n",
        "calculate_areas()    \n",
        "  "
      ],
      "execution_count": null,
      "outputs": [
        {
          "output_type": "stream",
          "name": "stdout",
          "text": [
            "134400\n",
            "2073600\n"
          ]
        }
      ]
    },
    {
      "cell_type": "markdown",
      "metadata": {
        "id": "Apy8QqKIB3_c"
      },
      "source": [
        "---\n",
        "***Floor Division***  \n",
        "*So far, we have been using standard arithmetic operators. If we would like to divide without remainders (eg. no decimals) we can use floor division using the // operator.  This will always round down*.  \n",
        "\n",
        "*For example*:  \n",
        "*42/8 = 5.75*  \n",
        "*BUT*  \n",
        "4*2//8 = 5*"
      ]
    },
    {
      "cell_type": "markdown",
      "metadata": {
        "id": "eGo_VENXRwo0"
      },
      "source": [
        "---\n",
        "### Exercise 7 - calculating with areas\n",
        "\n",
        "We may want to work out how many cards will fit on the screen.  \n",
        "\n",
        "Building on what you did in the last exercise, write a function called **calculate_cards(card_width, card_height)** which will:  \n",
        "\n",
        "*  calculate the area of a card, using the **card_width** + 20 and **card_height** + 20 (variables are supplied in the brackets)    \n",
        "*  calculate the area of the screen (using 1920 x 1080 again)  \n",
        "*  calculate the total **number_of_cards** that might fit within that area of a screen, and print the `number_of_cards`  \n",
        "\n",
        "*Hint: the `number_of_cards` will not be a decimal number - you should use floor division*\n",
        "\n",
        "### Test  \n",
        "If the function is run with 400, 300 in the brackets (these are the `card_width` and the `card_height`) then the output will be:\n",
        "\n",
        "15    \n"
      ]
    },
    {
      "cell_type": "code",
      "metadata": {
        "id": "0X6TKFubSIpT",
        "colab": {
          "base_uri": "https://localhost:8080/"
        },
        "outputId": "7f2461fe-8cd0-4481-99c7-feb09c1b03f0"
      },
      "source": [
        "def calculate_cards(card_width, card_height):\n",
        "  # add your code below here to calculate the area of a card, calculate the area of the screen and calculate how many cards (in principle) will fit on the screen (you can just divide the screen area by the card area)\n",
        "    area=round(card_width + 20)*( card_height + 20)\n",
        "    screen_area=(1920*1080)\n",
        "    number_of_cards=screen_area//area\n",
        "    print(number_of_cards)\n",
        "\n",
        "calculate_cards(400,300)\n"
      ],
      "execution_count": 18,
      "outputs": [
        {
          "output_type": "stream",
          "name": "stdout",
          "text": [
            "15\n"
          ]
        }
      ]
    },
    {
      "cell_type": "markdown",
      "metadata": {
        "id": "paxj6AccSIwy"
      },
      "source": [
        "---\n",
        "### Exercise 8 - rounding up\n",
        "\n",
        "Write a function called **calculate_parcel_weight()** which will:  \n",
        "\n",
        "*  assign weights, in kg, of four parcels to the variables **weight1, weight2, weight3, weight4**\n",
        "*  calculate the total **parcel_weight** and display this in a whole number of kg, **rounded up**  \n",
        "*  print the `parcel_weight`\n",
        "\n",
        "\n",
        "### Test  \n",
        "If the weights assigned to the variables are 1.23, 2.84, 1.675, 3.03, the output will be:  \n",
        " \n",
        "9kg\n"
      ]
    },
    {
      "cell_type": "code",
      "metadata": {
        "id": "Lulkpg6rStwT",
        "colab": {
          "base_uri": "https://localhost:8080/"
        },
        "outputId": "f8205212-cd59-45ec-d13a-bce6ef925008"
      },
      "source": [
        "def calculate_parcel_weight() :\n",
        "    weight1=1.23\n",
        "    weight2=2.84\n",
        "    weight3=1.675\n",
        "    weight4=3.03\n",
        "    parcel_weight=round(weight1+weight2+weight3+weight4)\n",
        "    print(parcel_weight,\"kg\")\n",
        "\n",
        "calculate_parcel_weight() "
      ],
      "execution_count": 21,
      "outputs": [
        {
          "output_type": "stream",
          "name": "stdout",
          "text": [
            "9 kg\n"
          ]
        }
      ]
    },
    {
      "cell_type": "markdown",
      "metadata": {
        "id": "SduMAQwsXKiA"
      },
      "source": [
        "---\n",
        "### Exercise 9 - modulus\n",
        "\n",
        "Write a function called **get_pm_minutes()** which will:  \n",
        "\n",
        "*  assign a time in the afternoon in 24 hour clock format to a variable called **time** (e.g. 1350) \n",
        "*  use floor division to get the **hour** (ie divide by 100)  \n",
        "*  use modulus to get the **minutes**  \n",
        "*  subtract 12 to get the 12 hour clock storing the result back in `hour`      \n",
        "*  print a message to say that It is `minutes` minutes past `hour` PM\n",
        "\n",
        "Test:  \n",
        "If the time, in 24 hour clock format, is 1350 the output will be:  \n",
        "\n",
        "It is 50 minutes past 1 PM\n",
        "\n",
        "*(Is it possible to use this code to get the right hour for a morning time?  You will do this in the section that allows selection depending on value)*\n",
        "\n"
      ]
    },
    {
      "cell_type": "code",
      "metadata": {
        "id": "dSxM7C1dXK9g"
      },
      "source": [],
      "execution_count": null,
      "outputs": []
    },
    {
      "cell_type": "markdown",
      "metadata": {
        "id": "HUwYL72HSt5b"
      },
      "source": [
        "---\n",
        "### Exercise 10 - How many tins of beans?  \n",
        "\n",
        "*This exercise is out of context but is a useful one to do as you need to give it quite a bit of thought.*\n",
        "\n",
        "Write a function called **calculate_tins()** that will calculate how many tins of beans will fit in a cardboard box. Bean tins are *11cm tall* and *8cm* diameter.  All tins will be standing up and can be stacked in layers.  \n",
        "\n",
        "*  use the **height**, **width** and **depth** of the box supplied in the function’s brackets.   \n",
        "*  calculate the **number_of_tins** that can fit in the given box    \n",
        "*  print the `number_of_tins` that can fit  \n",
        "\n",
        "*Hint: you will need to calculate the number of layers, and the number that will fit in each direction, the product (all of the numbers multiplied together) will tell you how many tins. All answers must be whole numbers*  \n",
        "\n",
        "### Test\n",
        "If the tins are 11cm tall and 8cm diameters and the box is 24x50x18, the output will be:  \n",
        "  \n",
        "24 tins will fit in this box  \n"
      ]
    },
    {
      "cell_type": "code",
      "metadata": {
        "id": "HNTLnqrDVdAW"
      },
      "source": [
        "def calculate_tins(height, width, depth):\n",
        "   # add your code below here\n",
        "\n",
        "  \n",
        "\n",
        "\n",
        "calculate_tins(24, 50, 18)"
      ],
      "execution_count": null,
      "outputs": []
    }
  ]
}
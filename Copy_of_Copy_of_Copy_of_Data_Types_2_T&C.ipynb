{
  "nbformat": 4,
  "nbformat_minor": 0,
  "metadata": {
    "colab": {
      "provenance": [],
      "include_colab_link": true
    },
    "kernelspec": {
      "name": "python3",
      "display_name": "Python 3"
    }
  },
  "cells": [
    {
      "cell_type": "markdown",
      "metadata": {
        "id": "view-in-github",
        "colab_type": "text"
      },
      "source": [
        "<a href=\"https://colab.research.google.com/github/vipershead247/futurecode-course/blob/main/Copy_of_Copy_of_Copy_of_Data_Types_2_T%26C.ipynb\" target=\"_parent\"><img src=\"https://colab.research.google.com/assets/colab-badge.svg\" alt=\"Open In Colab\"/></a>"
      ]
    },
    {
      "cell_type": "markdown",
      "metadata": {
        "id": "3O7iro_BV0mL"
      },
      "source": [
        "# Data Types and Operators\n",
        "\n",
        "---"
      ]
    },
    {
      "cell_type": "markdown",
      "metadata": {
        "id": "ZQgTpaaKLIsF"
      },
      "source": [
        "# Changing Data Input Type\n",
        "**Recap**:   \n",
        "\n",
        "Integers are whole numbers and can be both positive or negative.  \n",
        "Floats are decimal numbers which have a 'floating' decimal point (this is how they are stored in the computer's memory to keep them as small as possible but allow very large and very small numbers.  \n",
        "\n",
        "It is important for the computer to know what type of data it is dealing with so that it allocates the right amount of memory and can check that your program does appropriate things with the data (you can add words together to make a sentence but if you add numbers together you want to get a bigger number).  \n",
        "\n",
        "Variables are given a data type when they get their first value, so:  \n",
        "\n",
        "name = \"Monty\"  (name will be a string variable)  \n",
        "category = \"Mental Health Support\"  (category will be a string variable)  \n",
        "views = 98 (views will be an integer variable)  \n",
        "average_views = 248.27 (average_views will be a float variable)\n",
        "\n",
        "Sometimes we want to change the data type of a variable.  For example:\n",
        "\n",
        "If the program was sending a `message` to give data on the average number of views for notices in the Mental Health Support category it would ideally be something like this:\n",
        "\n",
        "`On average, there were 248.27 views of notices in the Mental Health Support category`\n",
        "\n",
        "This message would be created like this:  \n",
        "\n",
        "`message = \"On average, there were \" + str(average_views) + \" views of notices in the \" + category + \" category\"`  \n",
        "\n",
        "and printed like this:  \n",
        "\n",
        "`print(message)`\n",
        "\n",
        "\n",
        "By using *str()* the float variable `average_views` is converted to a string with the value \"248.27\".\n"
      ]
    },
    {
      "cell_type": "markdown",
      "metadata": {
        "id": "y9KJWVXhLcAB"
      },
      "source": [
        "---\n",
        "### Exercise 1 - changing data type\n",
        "Write a function called **print_average_views()** which will:  \n",
        "\n",
        "*  create a new variable called **category** and assign it the value \"Mental Health Support\"\n",
        "* create a new variable called **average_views** and assign it the value 248.27  \n",
        "* create a new variable called **time** and assign it the value \"month\"\n",
        "* print the message The `category` notice had an average of `average_views` views last `time`  \n",
        "\n",
        "*Think about what the data type will be for each variable*   \n",
        "\n",
        "### Test\n",
        "If `category` is assigned \"Mental Health Support\", `average_views` is assigned 248.27 and `time` is assigned \"month\" the output will be:  \n",
        "  \n",
        "The Mental Health Support notice had an average of 248.27 views last month.\n"
      ]
    },
    {
      "cell_type": "code",
      "metadata": {
        "id": "zA85A39JLzfF"
      },
      "source": [
        "def print_average_views():\n",
        "    # add code here\n",
        "    category=\"Mental Health Support\"\n",
        "    average_views=248.27\n",
        "    time=\"month\"\n",
        "    #Print(category,average_views,time)\n",
        "print_average_views()"
      ],
      "execution_count": null,
      "outputs": []
    },
    {
      "cell_type": "markdown",
      "metadata": {
        "id": "_tBD2cGDW1GB"
      },
      "source": [
        "---\n",
        "### Exercise 2 - boolean variables\n",
        "\n",
        "A **boolean variable** can hold just two values, `True` or `False`.  This type of variable is hugely valuable in holding onto the state of things.  For example, a boolean variable called **logged_in** might hold `True` if the user is logged in and `False` otherwise.  This means that at any point while a program is running, it is possible to ask the question \"Is the user logged in?\".  The answer will depend on the value of the variable `logged_in`.  \n",
        "\n",
        "Although we will use the values True and False as words, Python stores them as 1 for true and 0 for false.   \n",
        "\n",
        "To demonstrate this, write a function called **show_true_false()** which will:  \n",
        "\n",
        "*  create a variable called **logged_in** and assign it the value `True` (use the assignment operator **=** the same as usual)  \n",
        "*  create a variable called **logged_in_as_num** and assign it the value `int(True)`  \n",
        "*  print `logged_in` and `logged_in_as_num`\n",
        "\n",
        "### Test 1\n",
        "If `logged_in` is assigned the value `True` and `logged_in_as_num` is assigned the value `int(True)` the output will be::  \n",
        "\n",
        "`True 1`\n",
        "\n",
        "### Test 2\n",
        "When you have run this, change `True` to `False` in both places in the code.\n",
        "\n",
        "This time the output will be:  \n",
        "`False 0`\n"
      ]
    },
    {
      "cell_type": "code",
      "metadata": {
        "id": "XNHcNQEKW8xj"
      },
      "source": [
        "def show_true_false():\n",
        "  # add code here\n",
        "  logged_in=\"False\"\n",
        "  logged_in_as_num=int(False)\n",
        "\n",
        "show_true_false()"
      ],
      "execution_count": null,
      "outputs": []
    },
    {
      "cell_type": "markdown",
      "metadata": {
        "id": "r8O47uBPW9Gy"
      },
      "source": [
        "---\n",
        "### Exercise 3 - converting float to int\n",
        "\n",
        "Write a function called **show_average_notices()** which will:  \n",
        "\n",
        "*  create a variable called `average_notices` and assign it the value `153.85`\n",
        "*  create a variable called `whole_average` and assign it the whole number part of `average_notices`, to do this use int(average_notices)  \n",
        "*  print the message The average number of notices is `whole_average`  \n",
        "\n",
        "### Test  \n",
        "If `average_notices` was assigned 153.85 then the output will be:\n",
        "  \n",
        "The average number of notices is 153 \n"
      ]
    },
    {
      "cell_type": "code",
      "metadata": {
        "id": "aTO1l1iNXUNt"
      },
      "source": [
        "def show_average_notices():\n",
        "  # add code here\n",
        "  average_notices=153.85\n",
        "  whole_average=153\n",
        "  #Print(whole average)\n",
        "show_average_notices()"
      ],
      "execution_count": null,
      "outputs": []
    },
    {
      "cell_type": "markdown",
      "metadata": {
        "id": "Wy_L3E_-XUWa"
      },
      "source": [
        "---\n",
        "### Exercise 4 - converting int to string\n",
        "\n",
        "Write a function called **format_date()** which will:\n",
        "\n",
        "*  create a variable called **day** and assign it the value `9`  \n",
        "*  create a variable called **month** and assign it the value `5`\n",
        "*  create a variable called **year** and assign it the value `2023`  \n",
        "*  create a string variable called **date** and assign it the value of str(`day`), \"/\", str(`month`), \"/\" and str(`year`) joined together\n",
        "*  print the resulting date, including the / signs  \n",
        "\n",
        "### Test  \n",
        "If `day` is assigned the value `9`, `month` is assigned the value `5` and `year` is assigned the value `2023`, the output will be:\n",
        "  \n",
        "9/6/2023\n"
      ]
    },
    {
      "cell_type": "code",
      "metadata": {
        "id": "2hHoJyjMXXUK"
      },
      "source": [
        "def format_date():\n",
        "  # add code here\n",
        "\n",
        "\n",
        "format_date()"
      ],
      "execution_count": null,
      "outputs": []
    },
    {
      "cell_type": "markdown",
      "metadata": {
        "id": "nBZqJ5d7XXdc"
      },
      "source": [
        "---\n",
        "### Exercise 5 - GPS locations\n",
        "\n",
        "Write a function called **show_lat_lon()** which will:\n",
        "\n",
        "*  create a variable called **lat** and assign it the value 51.367295  \n",
        "*  create a variable called **lon** and assign it the value 0.504673\n",
        "*  create a variable called **gps_location** and assign it the value `str(round(lat,2))`, \",\" , `str(round(lon,2))` joined together.  \n",
        "\n",
        "###Test  \n",
        "If `lat` is assigned `51.367295` and `lon` is assigned `0.506473` the output will be:  \n",
        "\n",
        "51.37, 0.51"
      ]
    },
    {
      "cell_type": "code",
      "metadata": {
        "id": "GbkuKY-_dwn0"
      },
      "source": [
        "def show_lat_lon():\n",
        "  # add code here\n",
        "\n",
        "\n",
        "show_lat_lon()"
      ],
      "execution_count": null,
      "outputs": []
    }
  ]
}